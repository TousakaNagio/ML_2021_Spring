{
  "nbformat": 4,
  "nbformat_minor": 0,
  "metadata": {
    "accelerator": "GPU",
    "colab": {
      "name": "「ML2021Spring - HW1.ipynb」的副本",
      "provenance": [],
      "collapsed_sections": [],
      "toc_visible": true
    },
    "kernelspec": {
      "display_name": "Python 3",
      "name": "python3"
    }
  },
  "cells": [
    {
      "cell_type": "markdown",
      "metadata": {
        "id": "mz0_QVkxCrX3"
      },
      "source": [
        "# **Homework 1: COVID-19 Cases Prediction (Regression)**"
      ]
    },
    {
      "cell_type": "markdown",
      "metadata": {
        "id": "ZeZnPAiwDRWG"
      },
      "source": [
        "Author: Heng-Jui Chang\n",
        "\n",
        "Slides: https://github.com/ga642381/ML2021-Spring/blob/main/HW01/HW01.pdf  \n",
        "Video: TBA\n",
        "\n",
        "Objectives:\n",
        "* Solve a regression problem with deep neural networks (DNN).\n",
        "* Understand basic DNN training tips.\n",
        "* Get familiar with PyTorch.\n",
        "\n",
        "If any questions, please contact the TAs via TA hours, NTU COOL, or email.\n"
      ]
    },
    {
      "cell_type": "markdown",
      "metadata": {
        "id": "Jx3x1nDkG-Uy"
      },
      "source": [
        "# **Download Data**\n",
        "\n",
        "\n",
        "If the Google drive links are dead, you can download data from [kaggle](https://www.kaggle.com/c/ml2021spring-hw1/data), and upload data manually to the workspace."
      ]
    },
    {
      "cell_type": "code",
      "metadata": {
        "id": "tMj55YDKG6ch",
        "colab": {
          "base_uri": "https://localhost:8080/"
        },
        "outputId": "185d3d71-b7b6-4595-a6d8-2db9ff5a1289"
      },
      "source": [
        "tr_path = 'covid.train.csv'  # path to training data\n",
        "tt_path = 'covid.test.csv'   # path to testing data\n",
        "\n",
        "!gdown --id '19CCyCgJrUxtvgZF53vnctJiOJ23T5mqF' --output covid.train.csv\n",
        "!gdown --id '1CE240jLm2npU-tdz81-oVKEF3T2yfT1O' --output covid.test.csv"
      ],
      "execution_count": 34,
      "outputs": [
        {
          "output_type": "stream",
          "text": [
            "Downloading...\n",
            "From: https://drive.google.com/uc?id=19CCyCgJrUxtvgZF53vnctJiOJ23T5mqF\n",
            "To: /content/covid.train.csv\n",
            "100% 2.00M/2.00M [00:00<00:00, 31.7MB/s]\n",
            "Downloading...\n",
            "From: https://drive.google.com/uc?id=1CE240jLm2npU-tdz81-oVKEF3T2yfT1O\n",
            "To: /content/covid.test.csv\n",
            "100% 651k/651k [00:00<00:00, 10.3MB/s]\n"
          ],
          "name": "stdout"
        }
      ]
    },
    {
      "cell_type": "markdown",
      "metadata": {
        "id": "wS_4-77xHk44"
      },
      "source": [
        "# **Import Some Packages**"
      ]
    },
    {
      "cell_type": "code",
      "metadata": {
        "id": "k-onQd4JNA5H"
      },
      "source": [
        "# PyTorch\n",
        "import torch\n",
        "import torch.nn as nn\n",
        "from torch.utils.data import Dataset, DataLoader\n",
        "\n",
        "#sklearn\n",
        "from sklearn.feature_selection import SelectKBest\n",
        "from sklearn.feature_selection import chi2\n",
        "#url =\"https://archive.ics.uci.edu/ml/machine-learning-databases/pima-indians diabetes/pima-indians-diabetes.data\"\n",
        "\n",
        "# For data preprocess\n",
        "import numpy as np\n",
        "import csv\n",
        "import os\n",
        "\n",
        "# For plotting\n",
        "import matplotlib.pyplot as plt\n",
        "from matplotlib.pyplot import figure\n",
        "\n",
        "myseed = 1126  # set a random seed for reproducibility\n",
        "torch.backends.cudnn.deterministic = True\n",
        "torch.backends.cudnn.benchmark = False\n",
        "np.random.seed(myseed)\n",
        "torch.manual_seed(myseed)\n",
        "if torch.cuda.is_available():\n",
        "    torch.cuda.manual_seed_all(myseed)"
      ],
      "execution_count": 35,
      "outputs": []
    },
    {
      "cell_type": "code",
      "metadata": {
        "id": "8n1PrnHMJTf7"
      },
      "source": [
        ""
      ],
      "execution_count": 35,
      "outputs": []
    },
    {
      "cell_type": "markdown",
      "metadata": {
        "id": "BtE3b6JEH7rw"
      },
      "source": [
        "# **Some Utilities**\n",
        "\n",
        "You do not need to modify this part."
      ]
    },
    {
      "cell_type": "code",
      "metadata": {
        "id": "FWMT3uf1NGQp"
      },
      "source": [
        "def get_device():\n",
        "    ''' Get device (if GPU is available, use GPU) '''\n",
        "    return 'cuda' if torch.cuda.is_available() else 'cpu'\n",
        "\n",
        "def plot_learning_curve(loss_record, title=''):\n",
        "    ''' Plot learning curve of your DNN (train & dev loss) '''\n",
        "    total_steps = len(loss_record['train'])\n",
        "    x_1 = range(total_steps)\n",
        "    x_2 = x_1[::len(loss_record['train']) // len(loss_record['dev'])]\n",
        "    figure(figsize=(6, 4))\n",
        "    plt.plot(x_1, loss_record['train'], c='tab:red', label='train')\n",
        "    plt.plot(x_2, loss_record['dev'], c='tab:cyan', label='dev')\n",
        "    plt.ylim(0.0, 5.)\n",
        "    plt.xlabel('Training steps')\n",
        "    plt.ylabel('MSE loss')\n",
        "    plt.title('Learning curve of {}'.format(title))\n",
        "    plt.legend()\n",
        "    plt.show()\n",
        "\n",
        "\n",
        "def plot_pred(dv_set, model, device, lim=35., preds=None, targets=None):\n",
        "    ''' Plot prediction of your DNN '''\n",
        "    if preds is None or targets is None:\n",
        "        model.eval()\n",
        "        preds, targets = [], []\n",
        "        for x, y in dv_set:\n",
        "            x, y = x.to(device), y.to(device)\n",
        "            with torch.no_grad():\n",
        "                pred = model(x)\n",
        "                preds.append(pred.detach().cpu())\n",
        "                targets.append(y.detach().cpu())\n",
        "        preds = torch.cat(preds, dim=0).numpy()\n",
        "        targets = torch.cat(targets, dim=0).numpy()\n",
        "\n",
        "    figure(figsize=(5, 5))\n",
        "    plt.scatter(targets, preds, c='r', alpha=0.5)\n",
        "    plt.plot([-0.2, lim], [-0.2, lim], c='b')\n",
        "    plt.xlim(-0.2, lim)\n",
        "    plt.ylim(-0.2, lim)\n",
        "    plt.xlabel('ground truth value')\n",
        "    plt.ylabel('predicted value')\n",
        "    plt.title('Ground Truth v.s. Prediction')\n",
        "    plt.show()"
      ],
      "execution_count": 36,
      "outputs": []
    },
    {
      "cell_type": "markdown",
      "metadata": {
        "id": "39U_XFX6KOoj"
      },
      "source": [
        "# **Preprocess**\n",
        "\n",
        "We have three kinds of datasets:\n",
        "* `train`: for training\n",
        "* `dev`: for validation\n",
        "* `test`: for testing (w/o target value)"
      ]
    },
    {
      "cell_type": "markdown",
      "metadata": {
        "id": "TQ-MdwpLL7Dt"
      },
      "source": [
        "## **Dataset**\n",
        "\n",
        "The `COVID19Dataset` below does:\n",
        "* read `.csv` files\n",
        "* extract features\n",
        "* split `covid.train.csv` into train/dev sets\n",
        "* normalize features\n",
        "\n",
        "Finishing `TODO` below might make you pass medium baseline."
      ]
    },
    {
      "cell_type": "code",
      "metadata": {
        "id": "0zlpIp9ANJRU"
      },
      "source": [
        "class COVID19Dataset(Dataset):\n",
        "    ''' Dataset for loading and preprocessing the COVID19 dataset '''\n",
        "    def __init__(self,\n",
        "                 path,\n",
        "                 mode='train',\n",
        "                 target_only=False):\n",
        "        self.mode = mode\n",
        "\n",
        "        # Read data into numpy arrays\n",
        "        with open(path, 'r') as fp:\n",
        "            data = list(csv.reader(fp))\n",
        "            data = np.array(data[1:])[:, 1:].astype(float)\n",
        "            \n",
        "            \n",
        "        \n",
        "        if not target_only:\n",
        "            feats = list(range(93))\n",
        "        else:\n",
        "            # TODO: Using 40 states & 2 tested_positive features (indices = 57 & 75)\n",
        "            \n",
        "            feats = [40,41,42,43,57,58,59,60,61,75,76,77,78,79]\n",
        "            \n",
        "        if mode == 'test':\n",
        "            # Testing data\n",
        "            # data: 893 x 93 (40 states + day 1 (18) + day 2 (18) + day 3 (17))\n",
        "            data = data[:, feats]\n",
        "            self.data = torch.FloatTensor(data)\n",
        "        else:\n",
        "            # Training data (train/dev sets)\n",
        "            # data: 2700 x 94 (40 states + day 1 (18) + day 2 (18) + day 3 (18))\n",
        "            target = data[:, -1]\n",
        "            data = data[:, feats]\n",
        "\n",
        "            # target.reshape(-1,1)    #from here\n",
        "            # Y = target.astype('float')\n",
        "            # X = data.astype('float')\n",
        "            \n",
        "            # # Y.reshape(-1,1)\n",
        "\n",
        "            # test = SelectKBest(score_func=chi2, k=4)\n",
        "            # fit = test.fit(X,Y)\n",
        "            # feats = fit.transform(X)    #until here\n",
        "\n",
        "            # target = data[:, -1]\n",
        "            # data = data[:, feats]\n",
        "            \n",
        "            # Splitting training data into train & dev sets\n",
        "            if mode == 'train':\n",
        "                indices = [i for i in range(len(data)) if i % 10 != 9]\n",
        "            elif mode == 'dev':\n",
        "                indices = [i for i in range(len(data)) if i % 10 == 9]\n",
        "            \n",
        "            # Convert data into PyTorch tensors\n",
        "            self.data = torch.FloatTensor(data[indices])\n",
        "            self.target = torch.FloatTensor(target[indices])\n",
        "\n",
        "\n",
        "        # Normalize features (you may remove this part to see what will happen)\n",
        "        # self.data[:, 40:] = \\\n",
        "        #     (self.data[:, 40:] - self.data[:, 40:].mean(dim=0, keepdim=True)) \\\n",
        "        #     / self.data[:, 40:].std(dim=0, keepdim=True)\n",
        "\n",
        "\n",
        "\n",
        "        self.dim = self.data.shape[1]\n",
        "\n",
        "        print('Finished reading the {} set of COVID19 Dataset ({} samples found, each dim = {})'\n",
        "              .format(mode, len(self.data), self.dim))\n",
        "\n",
        "    def __getitem__(self, index):\n",
        "        # Returns one sample at a time\n",
        "        if self.mode in ['train', 'dev']:\n",
        "            # For training\n",
        "            return self.data[index], self.target[index]\n",
        "        else:\n",
        "            # For testing (no target)\n",
        "            return self.data[index]\n",
        "\n",
        "    def __len__(self):\n",
        "        # Returns the size of the dataset\n",
        "        return len(self.data)"
      ],
      "execution_count": 37,
      "outputs": []
    },
    {
      "cell_type": "markdown",
      "metadata": {
        "id": "AlhTlkE7MDo3"
      },
      "source": [
        "## **DataLoader**\n",
        "\n",
        "A `DataLoader` loads data from a given `Dataset` into batches.\n"
      ]
    },
    {
      "cell_type": "code",
      "metadata": {
        "id": "hlhLk5t6MBX3"
      },
      "source": [
        "def prep_dataloader(path, mode, batch_size, n_jobs=0, target_only=False):\n",
        "    ''' Generates a dataset, then is put into a dataloader. '''\n",
        "    dataset = COVID19Dataset(path, mode=mode, target_only=target_only)  # Construct dataset\n",
        "    dataloader = DataLoader(\n",
        "        dataset, batch_size,\n",
        "        shuffle=(mode == 'train'), drop_last=False,\n",
        "        num_workers=n_jobs, pin_memory=True)                            # Construct dataloader\n",
        "    return dataloader"
      ],
      "execution_count": 38,
      "outputs": []
    },
    {
      "cell_type": "markdown",
      "metadata": {
        "id": "SGuycwR0MeQB"
      },
      "source": [
        "# **Deep Neural Network**\n",
        "\n",
        "`NeuralNet` is an `nn.Module` designed for regression.\n",
        "The DNN consists of 2 fully-connected layers with ReLU activation.\n",
        "This module also included a function `cal_loss` for calculating loss.\n"
      ]
    },
    {
      "cell_type": "code",
      "metadata": {
        "id": "49-uXYovOAI0"
      },
      "source": [
        "class NeuralNet(nn.Module):\n",
        "    ''' A simple fully-connected deep neural network '''\n",
        "    def __init__(self, input_dim):\n",
        "        super(NeuralNet, self).__init__()\n",
        "\n",
        "        # Define your neural network here\n",
        "        # TODO: How to modify this model to achieve better performance?\n",
        "        layers = input_dim*3//2+1\n",
        "        self.net = nn.Sequential(\n",
        "            nn.Linear(input_dim, layers),\n",
        "            nn.ReLU(),\n",
        "            nn.Linear(layers, 1),\n",
        "            \n",
        "        )\n",
        "\n",
        "        # Mean squared error loss\n",
        "        self.criterion = nn.MSELoss(reduction='mean')\n",
        "        \n",
        "\n",
        "    def forward(self, x):\n",
        "        ''' Given input of size (batch_size x input_dim), compute output of the network '''\n",
        "        return self.net(x).squeeze(1)\n",
        "\n",
        "    def cal_loss(self, pred, target):\n",
        "        ''' Calculate loss '''\n",
        "        # TODO: you may implement L2 regularization here\n",
        "        \n",
        "        device = get_device()\n",
        "        k = 0.0005\n",
        "        loss_regulization = torch.tensor(0.).to(device)\n",
        "        for param in self.parameters():\n",
        "            loss_regulization += k * torch.norm(param)\n",
        "        \n",
        "        return self.criterion(pred, target) + loss_regulization"
      ],
      "execution_count": 39,
      "outputs": []
    },
    {
      "cell_type": "markdown",
      "metadata": {
        "id": "DvFWVjZ5Nvga"
      },
      "source": [
        "# **Train/Dev/Test**"
      ]
    },
    {
      "cell_type": "markdown",
      "metadata": {
        "id": "MAM8QecJOyqn"
      },
      "source": [
        "## **Training**"
      ]
    },
    {
      "cell_type": "code",
      "metadata": {
        "id": "lOqcmYzMO7jB"
      },
      "source": [
        "def train(tr_set, dv_set, model, config, device):\n",
        "    ''' DNN training '''\n",
        "\n",
        "    n_epochs = config['n_epochs']  # Maximum number of epochs\n",
        "\n",
        "    # Setup optimizer\n",
        "    optimizer = getattr(torch.optim, config['optimizer'])(\n",
        "        model.parameters(), **config['optim_hparas'])\n",
        "    \n",
        "    min_mse = 1000.\n",
        "    loss_record = {'train': [], 'dev': []}      # for recording training loss\n",
        "    early_stop_cnt = 0\n",
        "    epoch = 0\n",
        "    while epoch < n_epochs:\n",
        "        model.train()                           # set model to training mode\n",
        "        for x, y in tr_set:                     # iterate through the dataloader\n",
        "            optimizer.zero_grad()               # set gradient to zero\n",
        "            x, y = x.to(device), y.to(device)   # move data to device (cpu/cuda)\n",
        "            pred = model(x)                    # forward pass (compute output)\n",
        "            mse_loss = model.cal_loss(pred, y)  # compute loss\n",
        "            mse_loss.backward()                 # compute gradient (backpropagation)\n",
        "            optimizer.step()                    # update model with optimizer\n",
        "            loss_record['train'].append(mse_loss.detach().cpu().item())\n",
        "\n",
        "        # After each epoch, test your model on the validation (development) set.\n",
        "        dev_mse = dev(dv_set, model, device)\n",
        "        if dev_mse < min_mse:\n",
        "            # Save model if your model improved\n",
        "            min_mse = dev_mse\n",
        "            print('Saving model (epoch = {:4d}, loss = {:.4f})'\n",
        "                .format(epoch + 1, min_mse))\n",
        "            torch.save(model.state_dict(), config['save_path'])  # Save model to specified path\n",
        "            early_stop_cnt = 0\n",
        "        else:\n",
        "            early_stop_cnt += 1\n",
        "\n",
        "        epoch += 1\n",
        "        loss_record['dev'].append(dev_mse)\n",
        "        if early_stop_cnt > config['early_stop']:\n",
        "            # Stop training if your model stops improving for \"config['early_stop']\" epochs.\n",
        "            break\n",
        "\n",
        "    print('Finished training after {} epochs'.format(epoch))\n",
        "    return min_mse, loss_record"
      ],
      "execution_count": 40,
      "outputs": []
    },
    {
      "cell_type": "markdown",
      "metadata": {
        "id": "0hSd4Bn3O2PL"
      },
      "source": [
        "## **Validation**"
      ]
    },
    {
      "cell_type": "code",
      "metadata": {
        "id": "yrxrD3YsN3U2"
      },
      "source": [
        "def dev(dv_set, model, device):\n",
        "    model.eval()                                # set model to evalutation mode\n",
        "    total_loss = 0\n",
        "    for x, y in dv_set:                         # iterate through the dataloader\n",
        "        x, y = x.to(device), y.to(device)       # move data to device (cpu/cuda)\n",
        "        with torch.no_grad():                   # disable gradient calculation\n",
        "            pred = model(x)                     # forward pass (compute output)\n",
        "            mse_loss = model.cal_loss(pred, y)  # compute loss\n",
        "        total_loss += mse_loss.detach().cpu().item() * len(x)  # accumulate loss\n",
        "    total_loss = total_loss / len(dv_set.dataset)              # compute averaged loss\n",
        "\n",
        "    return total_loss"
      ],
      "execution_count": 41,
      "outputs": []
    },
    {
      "cell_type": "markdown",
      "metadata": {
        "id": "g0pdrhQAO41L"
      },
      "source": [
        "## **Testing**"
      ]
    },
    {
      "cell_type": "code",
      "metadata": {
        "id": "aSBMRFlYN5tB"
      },
      "source": [
        "def test(tt_set, model, device):\n",
        "    model.eval()                                # set model to evalutation mode\n",
        "    preds = []\n",
        "    for x in tt_set:                            # iterate through the dataloader\n",
        "        x = x.to(device)                        # move data to device (cpu/cuda)\n",
        "        with torch.no_grad():                   # disable gradient calculation\n",
        "            pred = model(x)                     # forward pass (compute output)\n",
        "            preds.append(pred.detach().cpu())   # collect prediction\n",
        "    preds = torch.cat(preds, dim=0).numpy()     # concatenate all predictions and convert to a numpy array\n",
        "    return preds"
      ],
      "execution_count": 42,
      "outputs": []
    },
    {
      "cell_type": "markdown",
      "metadata": {
        "id": "SvckkF5dvf0j"
      },
      "source": [
        "# **Setup Hyper-parameters**\n",
        "\n",
        "`config` contains hyper-parameters for training and the path to save your model."
      ]
    },
    {
      "cell_type": "code",
      "metadata": {
        "id": "NPXpdumwPjE7"
      },
      "source": [
        "device = get_device()                 # get the current available device ('cpu' or 'cuda')\n",
        "os.makedirs('models', exist_ok=True)  # The trained model will be saved to ./models/\n",
        "target_only = True                   # TODO: Using 40 states & 2 tested_positive features\n",
        "\n",
        "# TODO: How to tune these hyper-parameters to improve your model's performance? #調參\n",
        "config = {\n",
        "    'n_epochs': 60000,                # maximum number of epochs\n",
        "    'batch_size': 243,              # mini-batch size for dataloader\n",
        "    'optimizer': 'AdamW',              # optimization algorithm (optimizer in torch.optim)\n",
        "    'optim_hparas': {                # hyper-parameters for the optimizer (depends on which optimizer you are using)\n",
        "        'lr': 0.001,\n",
        "        'weight_decay':0.0001,    #0.01          # learning rate of SGD\n",
        "        #'momentum': 0.85           # momentum for SGD\n",
        "    },\n",
        "    'early_stop': 200,               # early stopping epochs (the number epochs since your model's last improvement)\n",
        "    'save_path': 'models/model.pth'  # your model will be saved here\n",
        "}"
      ],
      "execution_count": 43,
      "outputs": []
    },
    {
      "cell_type": "markdown",
      "metadata": {
        "id": "6j1eOV3TOH-j"
      },
      "source": [
        "# **Load data and model**"
      ]
    },
    {
      "cell_type": "code",
      "metadata": {
        "id": "eNrYBMmePLKm",
        "colab": {
          "base_uri": "https://localhost:8080/"
        },
        "outputId": "17aeb0d5-75cd-4e39-9096-da126fbc1c7a"
      },
      "source": [
        "tr_set = prep_dataloader(tr_path, 'train', config['batch_size'], target_only=target_only)\n",
        "dv_set = prep_dataloader(tr_path, 'dev', config['batch_size'], target_only=target_only)\n",
        "tt_set = prep_dataloader(tt_path, 'test', config['batch_size'], target_only=target_only)"
      ],
      "execution_count": 44,
      "outputs": [
        {
          "output_type": "stream",
          "text": [
            "Finished reading the train set of COVID19 Dataset (2430 samples found, each dim = 14)\n",
            "Finished reading the dev set of COVID19 Dataset (270 samples found, each dim = 14)\n",
            "Finished reading the test set of COVID19 Dataset (893 samples found, each dim = 14)\n"
          ],
          "name": "stdout"
        }
      ]
    },
    {
      "cell_type": "code",
      "metadata": {
        "id": "FHylSirLP9oh"
      },
      "source": [
        "model = NeuralNet(tr_set.dataset.dim).to(device)  # Construct model and move to device"
      ],
      "execution_count": 45,
      "outputs": []
    },
    {
      "cell_type": "markdown",
      "metadata": {
        "id": "sX2B_zgSOPTJ"
      },
      "source": [
        "# **Start Training!**"
      ]
    },
    {
      "cell_type": "code",
      "metadata": {
        "id": "GrEbUxazQAAZ",
        "colab": {
          "base_uri": "https://localhost:8080/"
        },
        "outputId": "b554f1f5-55db-40db-d4ba-8aec19e664b5"
      },
      "source": [
        "model_loss, model_loss_record = train(tr_set, dv_set, model, config, device)"
      ],
      "execution_count": 46,
      "outputs": [
        {
          "output_type": "stream",
          "text": [
            "Saving model (epoch =    1, loss = 158.9999)\n",
            "Saving model (epoch =    2, loss = 118.9621)\n",
            "Saving model (epoch =    3, loss = 76.9646)\n",
            "Saving model (epoch =    4, loss = 43.4624)\n",
            "Saving model (epoch =    5, loss = 23.1906)\n",
            "Saving model (epoch =    6, loss = 14.8825)\n",
            "Saving model (epoch =    7, loss = 12.6601)\n",
            "Saving model (epoch =    8, loss = 11.9316)\n",
            "Saving model (epoch =    9, loss = 11.3443)\n",
            "Saving model (epoch =   10, loss = 10.7634)\n",
            "Saving model (epoch =   11, loss = 10.2222)\n",
            "Saving model (epoch =   12, loss = 9.3303)\n",
            "Saving model (epoch =   13, loss = 8.6289)\n",
            "Saving model (epoch =   14, loss = 7.9415)\n",
            "Saving model (epoch =   15, loss = 7.2735)\n",
            "Saving model (epoch =   16, loss = 6.5900)\n",
            "Saving model (epoch =   17, loss = 5.9234)\n",
            "Saving model (epoch =   18, loss = 5.2556)\n",
            "Saving model (epoch =   19, loss = 4.6133)\n",
            "Saving model (epoch =   20, loss = 3.9984)\n",
            "Saving model (epoch =   21, loss = 3.4867)\n",
            "Saving model (epoch =   22, loss = 2.9890)\n",
            "Saving model (epoch =   23, loss = 2.5759)\n",
            "Saving model (epoch =   24, loss = 2.2463)\n",
            "Saving model (epoch =   25, loss = 2.0008)\n",
            "Saving model (epoch =   26, loss = 1.7937)\n",
            "Saving model (epoch =   27, loss = 1.6281)\n",
            "Saving model (epoch =   28, loss = 1.5186)\n",
            "Saving model (epoch =   29, loss = 1.4516)\n",
            "Saving model (epoch =   30, loss = 1.4259)\n",
            "Saving model (epoch =   31, loss = 1.3873)\n",
            "Saving model (epoch =   32, loss = 1.3749)\n",
            "Saving model (epoch =   34, loss = 1.3640)\n",
            "Saving model (epoch =   35, loss = 1.3597)\n",
            "Saving model (epoch =   37, loss = 1.3509)\n",
            "Saving model (epoch =   39, loss = 1.3483)\n",
            "Saving model (epoch =   40, loss = 1.3440)\n",
            "Saving model (epoch =   42, loss = 1.3394)\n",
            "Saving model (epoch =   47, loss = 1.3229)\n",
            "Saving model (epoch =   49, loss = 1.3210)\n",
            "Saving model (epoch =   51, loss = 1.3178)\n",
            "Saving model (epoch =   54, loss = 1.3159)\n",
            "Saving model (epoch =   57, loss = 1.3030)\n",
            "Saving model (epoch =   58, loss = 1.3016)\n",
            "Saving model (epoch =   59, loss = 1.2940)\n",
            "Saving model (epoch =   61, loss = 1.2888)\n",
            "Saving model (epoch =   64, loss = 1.2819)\n",
            "Saving model (epoch =   67, loss = 1.2758)\n",
            "Saving model (epoch =   69, loss = 1.2704)\n",
            "Saving model (epoch =   70, loss = 1.2700)\n",
            "Saving model (epoch =   73, loss = 1.2628)\n",
            "Saving model (epoch =   74, loss = 1.2597)\n",
            "Saving model (epoch =   77, loss = 1.2528)\n",
            "Saving model (epoch =   79, loss = 1.2499)\n",
            "Saving model (epoch =   83, loss = 1.2432)\n",
            "Saving model (epoch =   84, loss = 1.2386)\n",
            "Saving model (epoch =   86, loss = 1.2337)\n",
            "Saving model (epoch =   88, loss = 1.2306)\n",
            "Saving model (epoch =   90, loss = 1.2300)\n",
            "Saving model (epoch =   91, loss = 1.2235)\n",
            "Saving model (epoch =   93, loss = 1.2204)\n",
            "Saving model (epoch =  101, loss = 1.2085)\n",
            "Saving model (epoch =  103, loss = 1.2062)\n",
            "Saving model (epoch =  104, loss = 1.2042)\n",
            "Saving model (epoch =  107, loss = 1.2032)\n",
            "Saving model (epoch =  108, loss = 1.1941)\n",
            "Saving model (epoch =  109, loss = 1.1925)\n",
            "Saving model (epoch =  112, loss = 1.1886)\n",
            "Saving model (epoch =  113, loss = 1.1834)\n",
            "Saving model (epoch =  118, loss = 1.1788)\n",
            "Saving model (epoch =  119, loss = 1.1740)\n",
            "Saving model (epoch =  121, loss = 1.1730)\n",
            "Saving model (epoch =  123, loss = 1.1682)\n",
            "Saving model (epoch =  124, loss = 1.1670)\n",
            "Saving model (epoch =  125, loss = 1.1641)\n",
            "Saving model (epoch =  127, loss = 1.1615)\n",
            "Saving model (epoch =  129, loss = 1.1610)\n",
            "Saving model (epoch =  130, loss = 1.1579)\n",
            "Saving model (epoch =  132, loss = 1.1534)\n",
            "Saving model (epoch =  134, loss = 1.1509)\n",
            "Saving model (epoch =  136, loss = 1.1499)\n",
            "Saving model (epoch =  138, loss = 1.1469)\n",
            "Saving model (epoch =  139, loss = 1.1454)\n",
            "Saving model (epoch =  141, loss = 1.1418)\n",
            "Saving model (epoch =  153, loss = 1.1335)\n",
            "Saving model (epoch =  157, loss = 1.1317)\n",
            "Saving model (epoch =  159, loss = 1.1263)\n",
            "Saving model (epoch =  161, loss = 1.1242)\n",
            "Saving model (epoch =  163, loss = 1.1204)\n",
            "Saving model (epoch =  169, loss = 1.1192)\n",
            "Saving model (epoch =  171, loss = 1.1120)\n",
            "Saving model (epoch =  172, loss = 1.1100)\n",
            "Saving model (epoch =  174, loss = 1.1085)\n",
            "Saving model (epoch =  177, loss = 1.1062)\n",
            "Saving model (epoch =  178, loss = 1.1061)\n",
            "Saving model (epoch =  182, loss = 1.1021)\n",
            "Saving model (epoch =  183, loss = 1.1009)\n",
            "Saving model (epoch =  184, loss = 1.1001)\n",
            "Saving model (epoch =  188, loss = 1.0981)\n",
            "Saving model (epoch =  190, loss = 1.0956)\n",
            "Saving model (epoch =  191, loss = 1.0945)\n",
            "Saving model (epoch =  196, loss = 1.0914)\n",
            "Saving model (epoch =  199, loss = 1.0891)\n",
            "Saving model (epoch =  203, loss = 1.0868)\n",
            "Saving model (epoch =  208, loss = 1.0842)\n",
            "Saving model (epoch =  210, loss = 1.0832)\n",
            "Saving model (epoch =  212, loss = 1.0822)\n",
            "Saving model (epoch =  220, loss = 1.0793)\n",
            "Saving model (epoch =  222, loss = 1.0789)\n",
            "Saving model (epoch =  228, loss = 1.0780)\n",
            "Saving model (epoch =  233, loss = 1.0730)\n",
            "Saving model (epoch =  236, loss = 1.0729)\n",
            "Saving model (epoch =  239, loss = 1.0725)\n",
            "Saving model (epoch =  241, loss = 1.0706)\n",
            "Saving model (epoch =  248, loss = 1.0687)\n",
            "Saving model (epoch =  252, loss = 1.0668)\n",
            "Saving model (epoch =  257, loss = 1.0660)\n",
            "Saving model (epoch =  259, loss = 1.0659)\n",
            "Saving model (epoch =  263, loss = 1.0636)\n",
            "Saving model (epoch =  267, loss = 1.0633)\n",
            "Saving model (epoch =  269, loss = 1.0620)\n",
            "Saving model (epoch =  279, loss = 1.0619)\n",
            "Saving model (epoch =  281, loss = 1.0616)\n",
            "Saving model (epoch =  290, loss = 1.0585)\n",
            "Saving model (epoch =  291, loss = 1.0575)\n",
            "Saving model (epoch =  294, loss = 1.0559)\n",
            "Saving model (epoch =  295, loss = 1.0557)\n",
            "Saving model (epoch =  302, loss = 1.0553)\n",
            "Saving model (epoch =  313, loss = 1.0531)\n",
            "Saving model (epoch =  316, loss = 1.0521)\n",
            "Saving model (epoch =  321, loss = 1.0514)\n",
            "Saving model (epoch =  326, loss = 1.0509)\n",
            "Saving model (epoch =  336, loss = 1.0506)\n",
            "Saving model (epoch =  340, loss = 1.0500)\n",
            "Saving model (epoch =  344, loss = 1.0483)\n",
            "Saving model (epoch =  356, loss = 1.0467)\n",
            "Saving model (epoch =  364, loss = 1.0466)\n",
            "Saving model (epoch =  366, loss = 1.0461)\n",
            "Saving model (epoch =  368, loss = 1.0452)\n",
            "Saving model (epoch =  374, loss = 1.0449)\n",
            "Saving model (epoch =  378, loss = 1.0446)\n",
            "Saving model (epoch =  381, loss = 1.0442)\n",
            "Saving model (epoch =  382, loss = 1.0435)\n",
            "Saving model (epoch =  388, loss = 1.0431)\n",
            "Saving model (epoch =  396, loss = 1.0422)\n",
            "Saving model (epoch =  404, loss = 1.0420)\n",
            "Saving model (epoch =  412, loss = 1.0406)\n",
            "Saving model (epoch =  422, loss = 1.0393)\n",
            "Saving model (epoch =  434, loss = 1.0386)\n",
            "Saving model (epoch =  438, loss = 1.0384)\n",
            "Saving model (epoch =  442, loss = 1.0372)\n",
            "Saving model (epoch =  447, loss = 1.0368)\n",
            "Saving model (epoch =  454, loss = 1.0365)\n",
            "Saving model (epoch =  461, loss = 1.0364)\n",
            "Saving model (epoch =  465, loss = 1.0363)\n",
            "Saving model (epoch =  468, loss = 1.0358)\n",
            "Saving model (epoch =  478, loss = 1.0352)\n",
            "Saving model (epoch =  479, loss = 1.0349)\n",
            "Saving model (epoch =  481, loss = 1.0341)\n",
            "Saving model (epoch =  484, loss = 1.0337)\n",
            "Saving model (epoch =  489, loss = 1.0332)\n",
            "Saving model (epoch =  506, loss = 1.0322)\n",
            "Saving model (epoch =  511, loss = 1.0313)\n",
            "Saving model (epoch =  515, loss = 1.0310)\n",
            "Saving model (epoch =  517, loss = 1.0307)\n",
            "Saving model (epoch =  522, loss = 1.0298)\n",
            "Saving model (epoch =  537, loss = 1.0288)\n",
            "Saving model (epoch =  539, loss = 1.0284)\n",
            "Saving model (epoch =  546, loss = 1.0274)\n",
            "Saving model (epoch =  554, loss = 1.0262)\n",
            "Saving model (epoch =  566, loss = 1.0261)\n",
            "Saving model (epoch =  586, loss = 1.0227)\n",
            "Saving model (epoch =  593, loss = 1.0227)\n",
            "Saving model (epoch =  600, loss = 1.0213)\n",
            "Saving model (epoch =  602, loss = 1.0213)\n",
            "Saving model (epoch =  604, loss = 1.0204)\n",
            "Saving model (epoch =  615, loss = 1.0196)\n",
            "Saving model (epoch =  623, loss = 1.0194)\n",
            "Saving model (epoch =  634, loss = 1.0183)\n",
            "Saving model (epoch =  643, loss = 1.0182)\n",
            "Saving model (epoch =  645, loss = 1.0173)\n",
            "Saving model (epoch =  653, loss = 1.0167)\n",
            "Saving model (epoch =  662, loss = 1.0160)\n",
            "Saving model (epoch =  672, loss = 1.0157)\n",
            "Saving model (epoch =  686, loss = 1.0141)\n",
            "Saving model (epoch =  698, loss = 1.0140)\n",
            "Saving model (epoch =  706, loss = 1.0133)\n",
            "Saving model (epoch =  714, loss = 1.0125)\n",
            "Saving model (epoch =  720, loss = 1.0118)\n",
            "Saving model (epoch =  733, loss = 1.0115)\n",
            "Saving model (epoch =  735, loss = 1.0115)\n",
            "Saving model (epoch =  738, loss = 1.0108)\n",
            "Saving model (epoch =  743, loss = 1.0106)\n",
            "Saving model (epoch =  757, loss = 1.0093)\n",
            "Saving model (epoch =  764, loss = 1.0090)\n",
            "Saving model (epoch =  765, loss = 1.0088)\n",
            "Saving model (epoch =  771, loss = 1.0087)\n",
            "Saving model (epoch =  773, loss = 1.0085)\n",
            "Saving model (epoch =  782, loss = 1.0080)\n",
            "Saving model (epoch =  783, loss = 1.0079)\n",
            "Saving model (epoch =  786, loss = 1.0077)\n",
            "Saving model (epoch =  793, loss = 1.0073)\n",
            "Saving model (epoch =  795, loss = 1.0070)\n",
            "Saving model (epoch =  826, loss = 1.0063)\n",
            "Saving model (epoch =  836, loss = 1.0059)\n",
            "Saving model (epoch =  840, loss = 1.0047)\n",
            "Saving model (epoch =  844, loss = 1.0047)\n",
            "Saving model (epoch =  848, loss = 1.0046)\n",
            "Saving model (epoch =  856, loss = 1.0041)\n",
            "Saving model (epoch =  864, loss = 1.0036)\n",
            "Saving model (epoch =  874, loss = 1.0036)\n",
            "Saving model (epoch =  886, loss = 1.0034)\n",
            "Saving model (epoch =  891, loss = 1.0033)\n",
            "Saving model (epoch =  895, loss = 1.0028)\n",
            "Saving model (epoch =  905, loss = 1.0023)\n",
            "Saving model (epoch =  906, loss = 1.0017)\n",
            "Saving model (epoch =  908, loss = 1.0017)\n",
            "Saving model (epoch =  913, loss = 1.0013)\n",
            "Saving model (epoch =  924, loss = 1.0013)\n",
            "Saving model (epoch =  934, loss = 1.0011)\n",
            "Saving model (epoch =  937, loss = 1.0006)\n",
            "Saving model (epoch =  952, loss = 1.0004)\n",
            "Saving model (epoch =  953, loss = 1.0003)\n",
            "Saving model (epoch =  956, loss = 1.0003)\n",
            "Saving model (epoch =  966, loss = 0.9999)\n",
            "Saving model (epoch =  973, loss = 0.9997)\n",
            "Saving model (epoch =  977, loss = 0.9996)\n",
            "Saving model (epoch = 1002, loss = 0.9990)\n",
            "Saving model (epoch = 1017, loss = 0.9983)\n",
            "Saving model (epoch = 1021, loss = 0.9980)\n",
            "Saving model (epoch = 1030, loss = 0.9975)\n",
            "Saving model (epoch = 1037, loss = 0.9975)\n",
            "Saving model (epoch = 1044, loss = 0.9974)\n",
            "Saving model (epoch = 1066, loss = 0.9970)\n",
            "Saving model (epoch = 1067, loss = 0.9967)\n",
            "Saving model (epoch = 1068, loss = 0.9964)\n",
            "Saving model (epoch = 1078, loss = 0.9959)\n",
            "Saving model (epoch = 1082, loss = 0.9957)\n",
            "Saving model (epoch = 1090, loss = 0.9955)\n",
            "Saving model (epoch = 1103, loss = 0.9949)\n",
            "Saving model (epoch = 1117, loss = 0.9947)\n",
            "Saving model (epoch = 1136, loss = 0.9939)\n",
            "Saving model (epoch = 1142, loss = 0.9937)\n",
            "Saving model (epoch = 1168, loss = 0.9931)\n",
            "Saving model (epoch = 1172, loss = 0.9928)\n",
            "Saving model (epoch = 1175, loss = 0.9928)\n",
            "Saving model (epoch = 1196, loss = 0.9924)\n",
            "Saving model (epoch = 1199, loss = 0.9923)\n",
            "Saving model (epoch = 1208, loss = 0.9919)\n",
            "Saving model (epoch = 1216, loss = 0.9919)\n",
            "Saving model (epoch = 1224, loss = 0.9915)\n",
            "Saving model (epoch = 1230, loss = 0.9914)\n",
            "Saving model (epoch = 1239, loss = 0.9912)\n",
            "Saving model (epoch = 1241, loss = 0.9910)\n",
            "Saving model (epoch = 1259, loss = 0.9909)\n",
            "Saving model (epoch = 1262, loss = 0.9908)\n",
            "Saving model (epoch = 1264, loss = 0.9908)\n",
            "Saving model (epoch = 1268, loss = 0.9905)\n",
            "Saving model (epoch = 1276, loss = 0.9905)\n",
            "Saving model (epoch = 1289, loss = 0.9900)\n",
            "Saving model (epoch = 1291, loss = 0.9900)\n",
            "Saving model (epoch = 1310, loss = 0.9895)\n",
            "Saving model (epoch = 1327, loss = 0.9894)\n",
            "Saving model (epoch = 1334, loss = 0.9888)\n",
            "Saving model (epoch = 1339, loss = 0.9885)\n",
            "Saving model (epoch = 1344, loss = 0.9882)\n",
            "Saving model (epoch = 1367, loss = 0.9879)\n",
            "Saving model (epoch = 1385, loss = 0.9872)\n",
            "Saving model (epoch = 1391, loss = 0.9871)\n",
            "Saving model (epoch = 1398, loss = 0.9868)\n",
            "Saving model (epoch = 1403, loss = 0.9868)\n",
            "Saving model (epoch = 1448, loss = 0.9859)\n",
            "Saving model (epoch = 1468, loss = 0.9850)\n",
            "Saving model (epoch = 1495, loss = 0.9844)\n",
            "Saving model (epoch = 1501, loss = 0.9841)\n",
            "Saving model (epoch = 1523, loss = 0.9841)\n",
            "Saving model (epoch = 1527, loss = 0.9840)\n",
            "Saving model (epoch = 1541, loss = 0.9839)\n",
            "Saving model (epoch = 1546, loss = 0.9838)\n",
            "Saving model (epoch = 1552, loss = 0.9834)\n",
            "Saving model (epoch = 1569, loss = 0.9833)\n",
            "Saving model (epoch = 1580, loss = 0.9832)\n",
            "Saving model (epoch = 1583, loss = 0.9832)\n",
            "Saving model (epoch = 1601, loss = 0.9828)\n",
            "Saving model (epoch = 1607, loss = 0.9825)\n",
            "Saving model (epoch = 1627, loss = 0.9822)\n",
            "Saving model (epoch = 1633, loss = 0.9819)\n",
            "Saving model (epoch = 1641, loss = 0.9817)\n",
            "Saving model (epoch = 1650, loss = 0.9814)\n",
            "Saving model (epoch = 1655, loss = 0.9810)\n",
            "Saving model (epoch = 1666, loss = 0.9809)\n",
            "Saving model (epoch = 1695, loss = 0.9804)\n",
            "Saving model (epoch = 1697, loss = 0.9803)\n",
            "Saving model (epoch = 1753, loss = 0.9795)\n",
            "Saving model (epoch = 1780, loss = 0.9792)\n",
            "Saving model (epoch = 1815, loss = 0.9792)\n",
            "Saving model (epoch = 1827, loss = 0.9791)\n",
            "Saving model (epoch = 1845, loss = 0.9787)\n",
            "Saving model (epoch = 1852, loss = 0.9783)\n",
            "Saving model (epoch = 1865, loss = 0.9782)\n",
            "Saving model (epoch = 1879, loss = 0.9781)\n",
            "Saving model (epoch = 1898, loss = 0.9780)\n",
            "Saving model (epoch = 1908, loss = 0.9780)\n",
            "Saving model (epoch = 1910, loss = 0.9779)\n",
            "Saving model (epoch = 1918, loss = 0.9779)\n",
            "Saving model (epoch = 1963, loss = 0.9777)\n",
            "Saving model (epoch = 1970, loss = 0.9777)\n",
            "Saving model (epoch = 1980, loss = 0.9771)\n",
            "Saving model (epoch = 1997, loss = 0.9769)\n",
            "Saving model (epoch = 2005, loss = 0.9768)\n",
            "Saving model (epoch = 2018, loss = 0.9767)\n",
            "Saving model (epoch = 2020, loss = 0.9766)\n",
            "Saving model (epoch = 2037, loss = 0.9766)\n",
            "Saving model (epoch = 2070, loss = 0.9764)\n",
            "Saving model (epoch = 2072, loss = 0.9762)\n",
            "Saving model (epoch = 2089, loss = 0.9757)\n",
            "Saving model (epoch = 2094, loss = 0.9757)\n",
            "Saving model (epoch = 2112, loss = 0.9756)\n",
            "Saving model (epoch = 2146, loss = 0.9752)\n",
            "Saving model (epoch = 2154, loss = 0.9751)\n",
            "Saving model (epoch = 2177, loss = 0.9748)\n",
            "Saving model (epoch = 2192, loss = 0.9746)\n",
            "Saving model (epoch = 2230, loss = 0.9744)\n",
            "Saving model (epoch = 2247, loss = 0.9743)\n",
            "Saving model (epoch = 2275, loss = 0.9740)\n",
            "Saving model (epoch = 2303, loss = 0.9738)\n",
            "Saving model (epoch = 2333, loss = 0.9734)\n",
            "Saving model (epoch = 2361, loss = 0.9734)\n",
            "Saving model (epoch = 2368, loss = 0.9732)\n",
            "Saving model (epoch = 2371, loss = 0.9731)\n",
            "Saving model (epoch = 2441, loss = 0.9727)\n",
            "Saving model (epoch = 2446, loss = 0.9726)\n",
            "Saving model (epoch = 2455, loss = 0.9722)\n",
            "Saving model (epoch = 2466, loss = 0.9719)\n",
            "Saving model (epoch = 2491, loss = 0.9718)\n",
            "Saving model (epoch = 2503, loss = 0.9717)\n",
            "Saving model (epoch = 2553, loss = 0.9714)\n",
            "Saving model (epoch = 2584, loss = 0.9711)\n",
            "Saving model (epoch = 2602, loss = 0.9708)\n",
            "Saving model (epoch = 2627, loss = 0.9706)\n",
            "Saving model (epoch = 2632, loss = 0.9701)\n",
            "Saving model (epoch = 2687, loss = 0.9699)\n",
            "Saving model (epoch = 2784, loss = 0.9693)\n",
            "Saving model (epoch = 2790, loss = 0.9689)\n",
            "Saving model (epoch = 2838, loss = 0.9684)\n",
            "Saving model (epoch = 2874, loss = 0.9682)\n",
            "Saving model (epoch = 2884, loss = 0.9681)\n",
            "Saving model (epoch = 2896, loss = 0.9679)\n",
            "Saving model (epoch = 2962, loss = 0.9676)\n",
            "Saving model (epoch = 2996, loss = 0.9671)\n",
            "Saving model (epoch = 3037, loss = 0.9668)\n",
            "Saving model (epoch = 3065, loss = 0.9667)\n",
            "Saving model (epoch = 3098, loss = 0.9662)\n",
            "Saving model (epoch = 3104, loss = 0.9659)\n",
            "Saving model (epoch = 3139, loss = 0.9655)\n",
            "Saving model (epoch = 3198, loss = 0.9649)\n",
            "Saving model (epoch = 3229, loss = 0.9647)\n",
            "Saving model (epoch = 3242, loss = 0.9646)\n",
            "Saving model (epoch = 3359, loss = 0.9646)\n",
            "Saving model (epoch = 3377, loss = 0.9646)\n",
            "Saving model (epoch = 3388, loss = 0.9643)\n",
            "Saving model (epoch = 3405, loss = 0.9638)\n",
            "Saving model (epoch = 3419, loss = 0.9618)\n",
            "Finished training after 3620 epochs\n"
          ],
          "name": "stdout"
        }
      ]
    },
    {
      "cell_type": "code",
      "metadata": {
        "id": "hsNO9nnXQBvP",
        "colab": {
          "base_uri": "https://localhost:8080/",
          "height": 295
        },
        "outputId": "c636c78e-c78e-4cd8-9519-9646ea2e4af0"
      },
      "source": [
        "plot_learning_curve(model_loss_record, title='deep model')"
      ],
      "execution_count": 47,
      "outputs": [
        {
          "output_type": "display_data",
          "data": {
            "image/png": "[encoded data removed]",
            "text/plain": [
              "<Figure size 432x288 with 1 Axes>"
            ]
          },
          "metadata": {
            "tags": [],
            "needs_background": "light"
          }
        }
      ]
    },
    {
      "cell_type": "code",
      "metadata": {
        "id": "3iZTVn5WQFpX",
        "colab": {
          "base_uri": "https://localhost:8080/",
          "height": 350
        },
        "outputId": "11f4ad78-6387-4242-d1c1-e42b28abcc3b"
      },
      "source": [
        "del model\n",
        "model = NeuralNet(tr_set.dataset.dim).to(device)\n",
        "ckpt = torch.load(config['save_path'], map_location='cpu')  # Load your best model\n",
        "model.load_state_dict(ckpt)\n",
        "plot_pred(dv_set, model, device)  # Show prediction on the validation set"
      ],
      "execution_count": 48,
      "outputs": [
        {
          "output_type": "display_data",
          "data": {
            "image/png": "[encoded data removed]",
            "text/plain": [
              "<Figure size 360x360 with 1 Axes>"
            ]
          },
          "metadata": {
            "tags": [],
            "needs_background": "light"
          }
        }
      ]
    },
    {
      "cell_type": "markdown",
      "metadata": {
        "id": "aQikz3IPiyPf"
      },
      "source": [
        "# **Testing**\n",
        "The predictions of your model on testing set will be stored at `pred.csv`."
      ]
    },
    {
      "cell_type": "code",
      "metadata": {
        "id": "O8cTuQjQQOon",
        "colab": {
          "base_uri": "https://localhost:8080/"
        },
        "outputId": "4ba53ac2-03cc-4aa9-fe95-f53e80b5e807"
      },
      "source": [
        "def save_pred(preds, file):\n",
        "    ''' Save predictions to specified file '''\n",
        "    print('Saving results to {}'.format(file))\n",
        "    with open(file, 'w') as fp:\n",
        "        writer = csv.writer(fp)\n",
        "        writer.writerow(['id', 'tested_positive'])\n",
        "        for i, p in enumerate(preds):\n",
        "            writer.writerow([i, p])\n",
        "\n",
        "preds = test(tt_set, model, device)  # predict COVID-19 cases with your model\n",
        "save_pred(preds, 'pred.csv')         # save prediction file to pred.csv"
      ],
      "execution_count": 49,
      "outputs": [
        {
          "output_type": "stream",
          "text": [
            "Saving results to pred.csv\n"
          ],
          "name": "stdout"
        }
      ]
    },
    {
      "cell_type": "markdown",
      "metadata": {
        "id": "nfrVxqJanGpE"
      },
      "source": [
        "# **Hints**\n",
        "\n",
        "## **Simple Baseline**\n",
        "* Run sample code\n",
        "\n",
        "## **Medium Baseline**\n",
        "* Feature selection: 40 states + 2 `tested_positive` (`TODO` in dataset)\n",
        "\n",
        "## **Strong Baseline**\n",
        "* Feature selection (what other features are useful?)\n",
        "* DNN architecture (layers? dimension? activation function?)\n",
        "* Training (mini-batch? optimizer? learning rate?)\n",
        "* L2 regularization\n",
        "* There are some mistakes in the sample code, can you find them?"
      ]
    },
    {
      "cell_type": "markdown",
      "metadata": {
        "id": "9tmCwXgpot3t"
      },
      "source": [
        "# **Reference**\n",
        "This code is completely written by Heng-Jui Chang @ NTUEE.  \n",
        "Copying or reusing this code is required to specify the original author. \n",
        "\n",
        "E.g.  \n",
        "Source: Heng-Jui Chang @ NTUEE (https://github.com/ga642381/ML2021-Spring/blob/main/HW01/HW01.ipynb)\n"
      ]
    },
    {
      "cell_type": "code",
      "metadata": {
        "id": "u8e_u71KM5A3"
      },
      "source": [
        "#reference: https://stackoverflow.com/questions/44641976/pytorch-how-to-add-l1-regularizer-to-activations\n"
      ],
      "execution_count": 50,
      "outputs": []
    }
  ]
}